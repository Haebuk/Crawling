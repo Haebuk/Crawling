{
 "cells": [
  {
   "cell_type": "code",
   "execution_count": 3,
   "source": [
    "import time\r\n",
    "import json\r\n",
    "from collections import defaultdict\r\n",
    "\r\n",
    "import selenium\r\n",
    "from selenium import webdriver\r\n",
    "from selenium.webdriver import ActionChains\r\n",
    "\r\n",
    "from selenium.webdriver.common.keys import Keys\r\n",
    "from selenium.webdriver.common.by import By\r\n",
    "\r\n",
    "from selenium.webdriver.support import expected_conditions as EC\r\n",
    "from selenium.webdriver.support.ui import Select\r\n",
    "from selenium.webdriver.support.ui import WebDriverWait"
   ],
   "outputs": [],
   "metadata": {}
  },
  {
   "cell_type": "code",
   "execution_count": 4,
   "source": [
    "class create_dict(dict): \r\n",
    "  \r\n",
    "    # __init__ function \r\n",
    "    def __init__(self): \r\n",
    "        self = dict() \r\n",
    "          \r\n",
    "    # Function to add key:value \r\n",
    "    def add(self, key, value): \r\n",
    "        self[key] = value"
   ],
   "outputs": [],
   "metadata": {}
  },
  {
   "cell_type": "markdown",
   "source": [
    "# 아우터"
   ],
   "metadata": {}
  },
  {
   "cell_type": "code",
   "execution_count": 5,
   "source": [
    "URL = 'http://fromnowhere.co.kr/product/list.html?cate_no=169'\r\n",
    "\r\n",
    "driver = webdriver.Chrome(executable_path='chromedriver')\r\n",
    "driver.get(url=URL)\r\n"
   ],
   "outputs": [],
   "metadata": {}
  },
  {
   "cell_type": "code",
   "execution_count": null,
   "source": [
    "def get_clothes_info(isSoldOut=False, salePrice='0', parts='chest'):\r\n",
    "    if N == 0:\r\n",
    "        info_list = []\r\n",
    "    \r\n",
    "    info_dict = {}\r\n",
    "    values = [title, storeName, category, gender, brand, originalPrice, salePrice, thumbnailUrl,\r\n",
    "    contentUrl, isSoldOut, size]\r\n",
    "    keys = ['name', 'storeName', 'category', 'gender', 'brand', 'originalPrice', 'salePrice', 'thumbnailUrl',\r\n",
    "    'contentUrl', 'isSoldOut', 'size']\r\n",
    "    for i in range(len(keys)):\r\n",
    "        if keys[i] == 'size':\r\n",
    "            info_dict[keys[i]] = {}\r\n",
    "            info_dict[keys[i]][parts] = size \r\n",
    "        else:\r\n",
    "            info_dict[keys[i]] = values[i]\r\n",
    "    json_ = json.dumps(info_dict, indent=4, default=str, ensure_ascii=False)\r\n",
    "    print(json_)\r\n",
    "    \r\n",
    "    info_list.append(json_)"
   ],
   "outputs": [],
   "metadata": {}
  },
  {
   "cell_type": "code",
   "execution_count": 128,
   "source": [
    "\r\n",
    "storeName = '프롬노웨어'\r\n",
    "category = 'outer'\r\n",
    "gender = 'men'\r\n",
    "\r\n",
    "for N in range(100):\r\n",
    "    contents = driver.find_element_by_xpath('//*[@id=\"contents\"]/div[2]/div[2]/ul')\r\n",
    "    items = contents.find_elements_by_xpath('//*[starts-with(@id, \"anchorBoxId_\")]')\r\n",
    "    link = items[N].find_element_by_css_selector('div > a')\r\n",
    "    contentUrl = link.get_attribute('href')\r\n",
    "    link.click()\r\n",
    "\r\n",
    "    thumbnailUrl = driver.find_element_by_xpath('//*[@id=\"contents\"]/div[1]/div[1]/div[2]/div/img').get_attribute('src')\r\n",
    "    title = driver.find_element_by_xpath('//*[@id=\"contents\"]/div[1]/div[1]/div[1]/div').text\r\n",
    "    brand = driver.find_element_by_xpath('//*[@id=\"contents\"]/div[1]/div[1]/div[3]/div[1]/table/tbody/tr[2]/td/span').text\r\n",
    "    originalPrice = driver.find_element_by_xpath('//*[@id=\"span_product_price_text\"]').text.replace(\",\", '').replace(\" \", \"\").replace(\"KRW\", '')\r\n",
    "\r\n",
    "\r\n",
    "    sizes = driver.find_element_by_xpath('//*[@id=\"prdDetail\"]/div').get_attribute(\"innerHTML\").strip().split('\\n')\r\n",
    "    size = [x for x in sizes if '가슴' in x][0].split('가슴')[1].split('cm')[0].strip()\r\n",
    "\r\n",
    "    # print(contentUrl)\r\n",
    "    # print(thumbnailUrl)\r\n",
    "    # print(title)\r\n",
    "    # print(brand)\r\n",
    "    # print(originalPrice)\r\n",
    "    # print(size)\r\n",
    "    get_clothes_info()\r\n",
    "\r\n",
    "    if N % 10 == 0:\r\n",
    "        time.sleep(10)\r\n",
    "\r\n",
    "    driver.back()"
   ],
   "outputs": [
    {
     "output_type": "stream",
     "name": "stderr",
     "text": [
      "Exception ignored in: <function Service.__del__ at 0x0000020781CFAC18>\n",
      "Traceback (most recent call last):\n",
      "  File \"C:\\ProgramData\\Anaconda3\\lib\\site-packages\\selenium\\webdriver\\common\\service.py\", line 176, in __del__\n",
      "    self.stop()\n",
      "  File \"C:\\ProgramData\\Anaconda3\\lib\\site-packages\\selenium\\webdriver\\common\\service.py\", line 151, in stop\n",
      "    self.send_remote_shutdown_command()\n",
      "  File \"C:\\ProgramData\\Anaconda3\\lib\\site-packages\\selenium\\webdriver\\common\\service.py\", line 127, in send_remote_shutdown_command\n",
      "    url_request.urlopen(\"%s/shutdown\" % self.service_url)\n",
      "  File \"C:\\ProgramData\\Anaconda3\\lib\\urllib\\request.py\", line 222, in urlopen\n",
      "    return opener.open(url, data, timeout)\n",
      "  File \"C:\\ProgramData\\Anaconda3\\lib\\urllib\\request.py\", line 525, in open\n",
      "    response = self._open(req, data)\n",
      "  File \"C:\\ProgramData\\Anaconda3\\lib\\urllib\\request.py\", line 543, in _open\n",
      "    '_open', req)\n",
      "  File \"C:\\ProgramData\\Anaconda3\\lib\\urllib\\request.py\", line 503, in _call_chain\n",
      "    result = func(*args)\n",
      "  File \"C:\\ProgramData\\Anaconda3\\lib\\urllib\\request.py\", line 1378, in http_open\n",
      "    return self.do_open(http.client.HTTPConnection, req)\n",
      "  File \"C:\\ProgramData\\Anaconda3\\lib\\urllib\\request.py\", line 1353, in do_open\n",
      "    r = h.getresponse()\n",
      "  File \"C:\\ProgramData\\Anaconda3\\lib\\http\\client.py\", line 1369, in getresponse\n",
      "    response.begin()\n",
      "  File \"C:\\ProgramData\\Anaconda3\\lib\\http\\client.py\", line 310, in begin\n",
      "    version, status, reason = self._read_status()\n",
      "  File \"C:\\ProgramData\\Anaconda3\\lib\\http\\client.py\", line 271, in _read_status\n",
      "    line = str(self.fp.readline(_MAXLINE + 1), \"iso-8859-1\")\n",
      "  File \"C:\\ProgramData\\Anaconda3\\lib\\socket.py\", line 589, in readinto\n",
      "    return self._sock.recv_into(b)\n",
      "KeyboardInterrupt: \n"
     ]
    }
   ],
   "metadata": {}
  },
  {
   "cell_type": "code",
   "execution_count": null,
   "source": [],
   "outputs": [],
   "metadata": {}
  },
  {
   "cell_type": "code",
   "execution_count": null,
   "source": [
    "def get_clothes_info(isSoldOut=False, salePrice='0', parts='chest'):\r\n",
    "    if N == 0:\r\n",
    "        info_list = []\r\n",
    "    info_dict = {}\r\n",
    "    values = [title, storeName, category, gender, brand, originalPrice, salePrice, thumbnailUrl,\r\n",
    "    contentUrl, isSoldOut, size]\r\n",
    "    keys = ['name', 'storeName', 'category', 'gender', 'brand', 'originalPrice', 'salePrice', 'thumbnailUrl',\r\n",
    "    'contentUrl', 'isSoldOut', 'size']\r\n",
    "    for i in range(len(keys)):\r\n",
    "        if keys[i] == 'size':\r\n",
    "            info_dict[keys[i]] = {}\r\n",
    "            info_dict[keys[i]][parts] = size \r\n",
    "        else:\r\n",
    "            info_dict[keys[i]] = values[i]\r\n",
    "    json_ = json.dumps(info_dict, indent=4, default=str, ensure_ascii=False)\r\n",
    "    print(json_)\r\n",
    "    info_list.append(json_)\r\n",
    "    \r\n",
    "get_clothes_info()"
   ],
   "outputs": [],
   "metadata": {}
  },
  {
   "cell_type": "code",
   "execution_count": null,
   "source": [
    "info_list"
   ],
   "outputs": [],
   "metadata": {}
  },
  {
   "cell_type": "code",
   "execution_count": null,
   "source": [
    "jjj = json.dumps(info_list)"
   ],
   "outputs": [],
   "metadata": {}
  },
  {
   "cell_type": "code",
   "execution_count": null,
   "source": [
    "with open('9_2.json', 'w') as f:\r\n",
    "    json.dump(jjj, f)"
   ],
   "outputs": [],
   "metadata": {}
  },
  {
   "cell_type": "code",
   "execution_count": null,
   "source": [],
   "outputs": [],
   "metadata": {}
  }
 ],
 "metadata": {
  "orig_nbformat": 4,
  "language_info": {
   "name": "python",
   "version": "3.7.10",
   "mimetype": "text/x-python",
   "codemirror_mode": {
    "name": "ipython",
    "version": 3
   },
   "pygments_lexer": "ipython3",
   "nbconvert_exporter": "python",
   "file_extension": ".py"
  },
  "kernelspec": {
   "name": "python3",
   "display_name": "Python 3.7.10 64-bit ('base': conda)"
  },
  "interpreter": {
   "hash": "b3ba2566441a7c06988d0923437866b63cedc61552a5af99d1f4fb67d367b25f"
  }
 },
 "nbformat": 4,
 "nbformat_minor": 2
}
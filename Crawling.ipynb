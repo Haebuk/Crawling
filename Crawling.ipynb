{
 "cells": [
  {
   "cell_type": "code",
   "execution_count": 1,
   "source": [
    "import time\r\n",
    "import json\r\n",
    "from collections import defaultdict\r\n",
    "\r\n",
    "import selenium\r\n",
    "from selenium import webdriver\r\n",
    "from selenium.webdriver import ActionChains\r\n",
    "\r\n",
    "from selenium.webdriver.common.keys import Keys\r\n",
    "from selenium.webdriver.common.by import By\r\n",
    "\r\n",
    "from selenium.webdriver.support import expected_conditions as EC\r\n",
    "from selenium.webdriver.support.ui import Select\r\n",
    "from selenium.webdriver.support.ui import WebDriverWait"
   ],
   "outputs": [],
   "metadata": {}
  },
  {
   "cell_type": "code",
   "execution_count": 4,
   "source": [
    "class create_dict(dict): \r\n",
    "  \r\n",
    "    # __init__ function \r\n",
    "    def __init__(self): \r\n",
    "        self = dict() \r\n",
    "          \r\n",
    "    # Function to add key:value \r\n",
    "    def add(self, key, value): \r\n",
    "        self[key] = value"
   ],
   "outputs": [],
   "metadata": {}
  },
  {
   "cell_type": "markdown",
   "source": [
    "# 아우터"
   ],
   "metadata": {}
  },
  {
   "cell_type": "code",
   "execution_count": 2,
   "source": [
    "URL = 'http://fromnowhere.co.kr/product/list.html?cate_no=169'\r\n",
    "\r\n",
    "driver = webdriver.Chrome(executable_path='chromedriver')\r\n",
    "driver.get(url=URL)\r\n"
   ],
   "outputs": [],
   "metadata": {}
  },
  {
   "cell_type": "code",
   "execution_count": 3,
   "source": [
    "def get_clothes_info(isSoldOut=False, salePrice='0', parts='chest'):\r\n",
    "    if N == 0:\r\n",
    "        info_list = []\r\n",
    "    \r\n",
    "    info_dict = {}\r\n",
    "    values = [title, storeName, category, gender, brand, originalPrice, salePrice, thumbnailUrl,\r\n",
    "    contentUrl, isSoldOut, size]\r\n",
    "    keys = ['name', 'storeName', 'category', 'gender', 'brand', 'originalPrice', 'salePrice', 'thumbnailUrl',\r\n",
    "    'contentUrl', 'isSoldOut', 'size']\r\n",
    "    for i in range(len(keys)):\r\n",
    "        if keys[i] == 'size':\r\n",
    "            info_dict[keys[i]] = {}\r\n",
    "            info_dict[keys[i]][parts] = size \r\n",
    "        else:\r\n",
    "            info_dict[keys[i]] = values[i]\r\n",
    "    json_ = json.dumps(info_dict, indent=4, default=str, ensure_ascii=False)\r\n",
    "    print(json_)\r\n",
    "    \r\n",
    "    info_list.append(json_)"
   ],
   "outputs": [],
   "metadata": {}
  },
  {
   "cell_type": "code",
   "execution_count": 4,
   "source": [
    "\r\n",
    "storeName = '프롬노웨어'\r\n",
    "category = 'outer'\r\n",
    "gender = 'men'\r\n",
    "\r\n",
    "for N in range(100):\r\n",
    "    contents = driver.find_element_by_xpath('//*[@id=\"contents\"]/div[2]/div[2]/ul')\r\n",
    "    items = contents.find_elements_by_xpath('//*[starts-with(@id, \"anchorBoxId_\")]')\r\n",
    "    link = items[N].find_element_by_css_selector('div > a')\r\n",
    "    contentUrl = link.get_attribute('href')\r\n",
    "    link.click()\r\n",
    "\r\n",
    "    thumbnailUrl = driver.find_element_by_xpath('//*[@id=\"contents\"]/div[1]/div[1]/div[2]/div/img').get_attribute('src')\r\n",
    "    title = driver.find_element_by_xpath('//*[@id=\"contents\"]/div[1]/div[1]/div[1]/div').text\r\n",
    "    brand = driver.find_element_by_xpath('//*[@id=\"contents\"]/div[1]/div[1]/div[3]/div[1]/table/tbody/tr[2]/td/span').text\r\n",
    "    originalPrice = driver.find_element_by_xpath('//*[@id=\"span_product_price_text\"]').text.replace(\",\", '').replace(\" \", \"\").replace(\"KRW\", '')\r\n",
    "\r\n",
    "\r\n",
    "    sizes = driver.find_element_by_xpath('//*[@id=\"prdDetail\"]/div').get_attribute(\"innerHTML\").strip().split('\\n')\r\n",
    "    size = [x for x in sizes if '가슴' in x][0].split('가슴')[1].split('cm')[0].strip()\r\n",
    "\r\n",
    "    # print(contentUrl)\r\n",
    "    # print(thumbnailUrl)\r\n",
    "    # print(title)\r\n",
    "    # print(brand)\r\n",
    "    # print(originalPrice)\r\n",
    "    # print(size)\r\n",
    "    get_clothes_info()\r\n",
    "\r\n",
    "    if N % 10 == 0:\r\n",
    "        time.sleep(10)\r\n",
    "\r\n",
    "    driver.back()"
   ],
   "outputs": [
    {
     "output_type": "stream",
     "name": "stdout",
     "text": [
      "{\n",
      "    \"name\": \"100 리바이스 데님/퍼 트러커 오버핏\",\n",
      "    \"storeName\": \"프롬노웨어\",\n",
      "    \"category\": \"outer\",\n",
      "    \"gender\": \"men\",\n",
      "    \"brand\": \"Levi's\",\n",
      "    \"originalPrice\": \"19900\",\n",
      "    \"salePrice\": \"0\",\n",
      "    \"thumbnailUrl\": \"http://fromnowhere.co.kr/web/product/big/a7067.jpg\",\n",
      "    \"contentUrl\": \"http://fromnowhere.co.kr/product/detail.html?product_no=149147&cate_no=169&display_group=1\",\n",
      "    \"isSoldOut\": false,\n",
      "    \"size\": {\n",
      "        \"chest\": \"55\"\n",
      "    }\n",
      "}\n",
      "{\n",
      "    \"name\": \"100 무스탕 자켓 릴렉스핏 032\",\n",
      "    \"storeName\": \"프롬노웨어\",\n",
      "    \"category\": \"outer\",\n",
      "    \"gender\": \"men\",\n",
      "    \"brand\": \"none\",\n",
      "    \"originalPrice\": \"19900\",\n",
      "    \"salePrice\": \"0\",\n",
      "    \"thumbnailUrl\": \"http://fromnowhere.co.kr/web/product/big/c5032.jpg\",\n",
      "    \"contentUrl\": \"http://fromnowhere.co.kr/product/detail.html?product_no=149082&cate_no=169&display_group=1\",\n",
      "    \"isSoldOut\": false,\n",
      "    \"size\": {\n",
      "        \"chest\": \"56\"\n",
      "    }\n",
      "}\n"
     ]
    },
    {
     "output_type": "error",
     "ename": "UnboundLocalError",
     "evalue": "local variable 'info_list' referenced before assignment",
     "traceback": [
      "\u001b[1;31m---------------------------------------------------------------------------\u001b[0m",
      "\u001b[1;31mUnboundLocalError\u001b[0m                         Traceback (most recent call last)",
      "\u001b[1;32m<ipython-input-4-4b52319b524c>\u001b[0m in \u001b[0;36m<module>\u001b[1;34m\u001b[0m\n\u001b[0;32m     25\u001b[0m     \u001b[1;31m# print(originalPrice)\u001b[0m\u001b[1;33m\u001b[0m\u001b[1;33m\u001b[0m\u001b[1;33m\u001b[0m\u001b[0m\n\u001b[0;32m     26\u001b[0m     \u001b[1;31m# print(size)\u001b[0m\u001b[1;33m\u001b[0m\u001b[1;33m\u001b[0m\u001b[1;33m\u001b[0m\u001b[0m\n\u001b[1;32m---> 27\u001b[1;33m     \u001b[0mget_clothes_info\u001b[0m\u001b[1;33m(\u001b[0m\u001b[1;33m)\u001b[0m\u001b[1;33m\u001b[0m\u001b[1;33m\u001b[0m\u001b[0m\n\u001b[0m\u001b[0;32m     28\u001b[0m \u001b[1;33m\u001b[0m\u001b[0m\n\u001b[0;32m     29\u001b[0m     \u001b[1;32mif\u001b[0m \u001b[0mN\u001b[0m \u001b[1;33m%\u001b[0m \u001b[1;36m10\u001b[0m \u001b[1;33m==\u001b[0m \u001b[1;36m0\u001b[0m\u001b[1;33m:\u001b[0m\u001b[1;33m\u001b[0m\u001b[1;33m\u001b[0m\u001b[0m\n",
      "\u001b[1;32m<ipython-input-3-dc3692e6c4bd>\u001b[0m in \u001b[0;36mget_clothes_info\u001b[1;34m(isSoldOut, salePrice, parts)\u001b[0m\n\u001b[0;32m     17\u001b[0m     \u001b[0mprint\u001b[0m\u001b[1;33m(\u001b[0m\u001b[0mjson_\u001b[0m\u001b[1;33m)\u001b[0m\u001b[1;33m\u001b[0m\u001b[1;33m\u001b[0m\u001b[0m\n\u001b[0;32m     18\u001b[0m \u001b[1;33m\u001b[0m\u001b[0m\n\u001b[1;32m---> 19\u001b[1;33m     \u001b[0minfo_list\u001b[0m\u001b[1;33m.\u001b[0m\u001b[0mappend\u001b[0m\u001b[1;33m(\u001b[0m\u001b[0mjson_\u001b[0m\u001b[1;33m)\u001b[0m\u001b[1;33m\u001b[0m\u001b[1;33m\u001b[0m\u001b[0m\n\u001b[0m",
      "\u001b[1;31mUnboundLocalError\u001b[0m: local variable 'info_list' referenced before assignment"
     ]
    }
   ],
   "metadata": {}
  },
  {
   "cell_type": "code",
   "execution_count": null,
   "source": [],
   "outputs": [],
   "metadata": {}
  },
  {
   "cell_type": "code",
   "execution_count": null,
   "source": [
    "def get_clothes_info(isSoldOut=False, salePrice='0', parts='chest'):\r\n",
    "    if N == 0:\r\n",
    "        info_list = []\r\n",
    "    info_dict = {}\r\n",
    "    values = [title, storeName, category, gender, brand, originalPrice, salePrice, thumbnailUrl,\r\n",
    "    contentUrl, isSoldOut, size]\r\n",
    "    keys = ['name', 'storeName', 'category', 'gender', 'brand', 'originalPrice', 'salePrice', 'thumbnailUrl',\r\n",
    "    'contentUrl', 'isSoldOut', 'size']\r\n",
    "    for i in range(len(keys)):\r\n",
    "        if keys[i] == 'size':\r\n",
    "            info_dict[keys[i]] = {}\r\n",
    "            info_dict[keys[i]][parts] = size \r\n",
    "        else:\r\n",
    "            info_dict[keys[i]] = values[i]\r\n",
    "    json_ = json.dumps(info_dict, indent=4, default=str, ensure_ascii=False)\r\n",
    "    print(json_)\r\n",
    "    info_list.append(json_)\r\n",
    "    \r\n",
    "get_clothes_info()"
   ],
   "outputs": [],
   "metadata": {}
  },
  {
   "cell_type": "code",
   "execution_count": null,
   "source": [
    "info_list"
   ],
   "outputs": [],
   "metadata": {}
  },
  {
   "cell_type": "code",
   "execution_count": null,
   "source": [
    "jjj = json.dumps(info_list)"
   ],
   "outputs": [],
   "metadata": {}
  },
  {
   "cell_type": "code",
   "execution_count": null,
   "source": [
    "with open('9_2.json', 'w') as f:\r\n",
    "    json.dump(jjj, f)"
   ],
   "outputs": [],
   "metadata": {}
  },
  {
   "cell_type": "code",
   "execution_count": null,
   "source": [],
   "outputs": [],
   "metadata": {}
  }
 ],
 "metadata": {
  "orig_nbformat": 4,
  "language_info": {
   "name": "python",
   "version": "3.7.10",
   "mimetype": "text/x-python",
   "codemirror_mode": {
    "name": "ipython",
    "version": 3
   },
   "pygments_lexer": "ipython3",
   "nbconvert_exporter": "python",
   "file_extension": ".py"
  },
  "kernelspec": {
   "name": "python3",
   "display_name": "Python 3.7.10 64-bit ('tens_2g': conda)"
  },
  "interpreter": {
   "hash": "af338b71a225fdc0eb31ef84a3daefd281889f5e5aa9007927a8f410d35700fa"
  }
 },
 "nbformat": 4,
 "nbformat_minor": 2
}